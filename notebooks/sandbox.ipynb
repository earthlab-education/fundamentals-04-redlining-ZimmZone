{
 "cells": [
  {
   "cell_type": "markdown",
   "metadata": {},
   "source": [
    "### Loops_functions_practice"
   ]
  },
  {
   "cell_type": "code",
   "execution_count": 1,
   "metadata": {},
   "outputs": [
    {
     "name": "stdout",
     "output_type": "stream",
     "text": [
      "[1, 2, 3, 4, 5]\n"
     ]
    }
   ],
   "source": [
    "# create list of numbers - lists need brackets\n",
    "list_of_values = [1, 2, 3, 4, 5]\n",
    "\n",
    "# printe each object separately\n",
    "print(list_of_values)"
   ]
  },
  {
   "cell_type": "code",
   "execution_count": 2,
   "metadata": {},
   "outputs": [
    {
     "name": "stdout",
     "output_type": "stream",
     "text": [
      "1\n"
     ]
    }
   ],
   "source": [
    "#Cycle through each number and print separately\n",
    "for avalue in list_of_values:\n",
    "    print(avalue)\n",
    "    break\n"
   ]
  },
  {
   "cell_type": "code",
   "execution_count": 3,
   "metadata": {},
   "outputs": [
    {
     "name": "stdout",
     "output_type": "stream",
     "text": [
      "the current value is: 1\n",
      "the current value is: 2\n",
      "the current value is: 3\n",
      "the current value is: 4\n",
      "the current value is: 5\n"
     ]
    }
   ],
   "source": [
    "#Cycle through each number and print with text\n",
    "for avalue in list_of_values:\n",
    "    print(\"the current value is:\", avalue)\n",
    "    "
   ]
  },
  {
   "cell_type": "code",
   "execution_count": 11,
   "metadata": {},
   "outputs": [
    {
     "name": "stdout",
     "output_type": "stream",
     "text": [
      "22\n",
      "15\n",
      "146\n",
      "57\n"
     ]
    }
   ],
   "source": [
    "# Create new list of integers\n",
    "num_list = [12, 5, 136, 47]\n",
    "#for eache item in list, add 10 and printe new value\n",
    "for i in num_list:\n",
    "    n= i + 10\n",
    "    print(n)\n",
    "\n",
    "#What if we don't call print?\n",
    "#What if we add a 'brea'?\n",
    "#What if we change what \"i\" is called?\n",
    "#Look at the current \"i\" and \"n\" values"
   ]
  },
  {
   "cell_type": "code",
   "execution_count": 14,
   "metadata": {},
   "outputs": [
    {
     "data": {
      "text/plain": [
       "[22, 15, 146, 57]"
      ]
     },
     "execution_count": 14,
     "metadata": {},
     "output_type": "execute_result"
    }
   ],
   "source": [
    "# But each output value is listed separately. What if we want them to bal be in the same object(suchas a list)\n",
    "\n",
    "# Create emplty list to store output\n",
    "new_list = []\n",
    "\n",
    "# Create loop & apend (addd) output to the list\n",
    "for i in num_list:\n",
    "    new_list.append(i +10)\n",
    "\n",
    "new_list"
   ]
  },
  {
   "cell_type": "code",
   "execution_count": 16,
   "metadata": {},
   "outputs": [],
   "source": [
    "import numpy as np\n",
    "data = np.array([[1, 2, 3]])"
   ]
  },
  {
   "cell_type": "markdown",
   "metadata": {},
   "source": [
    "### Functions"
   ]
  },
  {
   "cell_type": "code",
   "execution_count": null,
   "metadata": {},
   "outputs": [],
   "source": [
    "# Function Structure\n",
    "def function_name(parameter):\n",
    "    some code here\n",
    "    return output"
   ]
  },
  {
   "cell_type": "code",
   "execution_count": 21,
   "metadata": {},
   "outputs": [
    {
     "name": "stdout",
     "output_type": "stream",
     "text": [
      "<function mm_to_in at 0x10c0d8ea0>\n"
     ]
    }
   ],
   "source": [
    "#Convert input frmo mm to inches\n",
    "def mm_to_in(mm):\n",
    "    inches = mm / 25.4\n",
    "    #return inches\n",
    "\n",
    "#test function\n",
    "mm_to_in(mm =30)\n",
    "\n",
    "# What if we forget to add the return?\n",
    "# You don't actually need the mm=, just a nice reminder.\n",
    "\n"
   ]
  },
  {
   "cell_type": "code",
   "execution_count": null,
   "metadata": {},
   "outputs": [],
   "source": [
    "# Add docstring to explain what function does\n",
    "def mm_to_in(mm)\n",
    "    \"\"\"Convert input from millimeters to inches.\n",
    "    \n",
    "    Parameters\n",
    "    \n",
    "    mm : into or float\n",
    "        numeric value with units in millimeters.\n",
    "        \n",
    "    Returns\n",
    "    \n",
    "    output : integer or float \n",
    "        Numeric value with units in inches\n",
    "        \"\"\"\n",
    "    inches = mm / 25.4\n",
    "    return inches\n",
    "\n",
    "# Docstring appears in \"help\" command for function\n",
    "help(mm_to_in)\n",
    "    "
   ]
  },
  {
   "cell_type": "code",
   "execution_count": 27,
   "metadata": {},
   "outputs": [],
   "source": [
    "# Apply function to a numpy array\n",
    "\n",
    "#import \n",
    "import numpy as np\n",
    "\n",
    "# Average monthly precip (mm) for Boulder, CO\n",
    "avg_monthly_precip_mm = np.array([17.78, 19.05, 46.99])\n",
    "\n",
    "#convert to inches\n",
    "avg_monthly_precip_mm = mm_to_in(mm = avg_monthly_precip_mm)\n",
    "\n",
    "avg_monthly_precip_in"
   ]
  },
  {
   "cell_type": "code",
   "execution_count": 28,
   "metadata": {},
   "outputs": [],
   "source": [
    "# Cna have more than 1 input parameter for function\n",
    "\n",
    "def multiply_values(x,y):\n",
    "    z=x*y\n",
    "    return z"
   ]
  },
  {
   "cell_type": "code",
   "execution_count": null,
   "metadata": {},
   "outputs": [],
   "source": [
    "# Calcuate the volume of apyramid\n",
    "# V = (1/3) * Base * height"
   ]
  },
  {
   "cell_type": "markdown",
   "metadata": {},
   "source": [
    "## Combine Loops and Functions"
   ]
  },
  {
   "cell_type": "code",
   "execution_count": 30,
   "metadata": {},
   "outputs": [
    {
     "data": {
      "text/plain": [
       "[1, 4, 9, 16, 25]"
      ]
     },
     "execution_count": 30,
     "metadata": {},
     "output_type": "execute_result"
    }
   ],
   "source": [
    "# First define function\n",
    "\n",
    "def calculate_square(number):\n",
    "    return number **2\n",
    "    \"\"\"\n",
    "    Returs the square of a number \"\"\"\n",
    "\n",
    "#Create list of numbers as a 'dataset'\n",
    "numbers_list = [1, 2, 3, 4, 5]\n",
    "\n",
    "# Create empty list to collect output\n",
    "squared_numbers_list =[]\n",
    "\n",
    "for i in numbers_list:\n",
    "    square_num = calculate_square(i)\n",
    "    squared_numbers_list.append(square_num)\n",
    "\n",
    "# square_num is an intermediate/ placeholder variable\n",
    "\n",
    "#Call object to see output list\n",
    "squared_numbers_list"
   ]
  }
 ],
 "metadata": {
  "kernelspec": {
   "display_name": "Python 3",
   "language": "python",
   "name": "python3"
  },
  "language_info": {
   "codemirror_mode": {
    "name": "ipython",
    "version": 3
   },
   "file_extension": ".py",
   "mimetype": "text/x-python",
   "name": "python",
   "nbconvert_exporter": "python",
   "pygments_lexer": "ipython3",
   "version": "3.11.10"
  }
 },
 "nbformat": 4,
 "nbformat_minor": 2
}
