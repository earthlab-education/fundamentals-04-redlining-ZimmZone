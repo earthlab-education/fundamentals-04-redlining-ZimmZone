{
 "cells": [
  {
   "cell_type": "markdown",
   "metadata": {},
   "source": [
    "# Redlining in Loveland, Colorado\n",
    "\n",
    "Loveland, Colorado was officially establised in 1881. Named after the president of the Colorado Central Railroad, William A.H.Loveland, the city was established alongside newly constructed railroad line that connected Denver in the South to Fort Collins in the North. \n",
    "\n",
    "With the railroad, Loveland soon established itself as a shipping point for farmers, ranchers, and lunber suppliers.  and it's population more than trippled between 1882 and 1885. In 1901, the Great Western Sugar Company build a factor in Loveland which remains a primary source of employment until it's closure over 80 years later in 1985. \n",
    "\n",
    "Today, Loveland is the center of one of the fastest growing regions in the Nation, Northern Colorado - known as NoCo. The City's population as of 202 was 76,378.\n",
    "\n",
    "## A Troubled Past\n",
    "\n",
    "Of the 20 most populous cities in Colorado, Loveland is the whitest, with 84% identifying as 'white only' (kunc refernce)\n",
    "\n",
    "This artificial 'whiteness' is not by accident. {reference } Prior to 1960, Loveland was one of the many towns in the United States that had unspoken 'Sundown Laws' which implied that people of color, Black or Hispanic, were not welcome. People arriving in Loveland were greeted by signs welcoming them to the \"Nationally Famous Sweethart Town\" with an additional sign underneath that read \"We observe the Jim Crow Laws here.\" Many downtown businesses had signs stating 'White-Trade Only\". Histanic residents who grew up in 50s and 60s recalled that people 'like them' just didn't live in certain parts of town (mostly West of the railroad tracks).\n",
    "\n",
    "Loveland was known as a 'Sundowner Town' where \"Black people were not allowed to be within the city limits after hours. And brown people were basically treated as second-class citizens,\" according to Bob Adame, a 73-year-old Loveland resident. In direct violation of Colorado state law that guarenteed residents access to public places regardless of race, many neighborhoods with HOAs mades sure that only whites could purchase homes. \n",
    "\n",
    "While progress has been made, the Citys black population is still only 1.5%, and it's hispanic population approximatley 3%. At a city councl meeting in 2021, when the city was considering measures to give non-white and LGBTQ residents more of a voice, one older white resident stated \"I am not a fan of multiracilaims to be truthful. You can call me a racist if you want to.\"\n",
    "\n",
    "References:\n",
    "\n",
    "https://loveland.org/explore-loveland/loveland/facts-history/history-of-loveland/\n",
    "https://www.reporterherald.com/2016/07/02/loveland-wasnt-immune-to-nations-divided-past/?clearUserState=true\n",
    "https://www.kunc.org/2021-09-13/loveland-colorado-splinters-over-racist-sundown-town-past-and-increasingly-diverse-future\n"
   ]
  },
  {
   "cell_type": "markdown",
   "metadata": {},
   "source": [
    "## Import Necessary Packages"
   ]
  },
  {
   "cell_type": "code",
   "execution_count": null,
   "metadata": {},
   "outputs": [],
   "source": [
    "import os # Interoperable file paths\n",
    "import pathlib # Find the home folder\n",
    "\n",
    "import geopandas as gpd # Work with vector data\n",
    "import hvplot.pandas # Interactive plots of vector data"
   ]
  },
  {
   "cell_type": "code",
   "execution_count": 2,
   "metadata": {},
   "outputs": [],
   "source": [
    "data_dir = os.path.join(\n",
    "    pathlib.Path.home(),\n",
    "    'earth-analytics',\n",
    "    'data',\n",
    "    'fortcollinsrl'\n",
    ")\n",
    "os.makedirs(data_dir, exist_ok=True)"
   ]
  },
  {
   "cell_type": "markdown",
   "metadata": {},
   "source": [
    "## STEP 2: Site map\n",
    "\n",
    "<link rel=\"stylesheet\" type=\"text/css\" href=\"./assets/styles.css\"><div class=\"callout callout-style-default callout-titled callout-task\"><div class=\"callout-header\"><div class=\"callout-icon-container\"><i class=\"callout-icon\"></i></div><div class=\"callout-title-container flex-fill\">Try It: Define your study area</div></div><div class=\"callout-body-container callout-body\"><ol type=\"1\">\n",
    "<li>Copy the <strong>geopackage</strong> URL for the <a\n",
    "href=\"https://dsl.richmond.edu/panorama/redlining/data\">University of\n",
    "Richmond</a></li>\n",
    "<li>Load the <em>vector</em> data into Python, making sure to cache the\n",
    "download so you don’t have to run it multiple times.</li>\n",
    "<li>Create a quick plot to check the data</li>\n",
    "</ol></div></div>"
   ]
  },
  {
   "cell_type": "code",
   "execution_count": 20,
   "metadata": {},
   "outputs": [
    {
     "data": {
      "text/plain": [
       "<Axes: >"
      ]
     },
     "execution_count": 20,
     "metadata": {},
     "output_type": "execute_result"
    },
    {
     "data": {
      "image/png": "[encoded data removed]",
      "text/plain": [
       "<Figure size 640x480 with 1 Axes>"
      ]
     },
     "metadata": {},
     "output_type": "display_data"
    }
   ],
   "source": [
    "# Define info for redlining download\n",
    "fortcollinsrl_url = (\n",
    "    \"https://dsl.richmond.edu\"\n",
    "    \"/panorama/redlining/static/\"\n",
    "    \"mappinginequality.gpkg\"\n",
    ")\n",
    "# Set up a path to save the data on your machine\n",
    "fortcollinsrl_dir = os.path.join(data_dir, 'fortcollinsrl')\n",
    "\n",
    "# Make the redlining directory\n",
    "os.makedirs(fortcollinsrl_dir, exist_ok=True)\n",
    "\n",
    "# Join regions shapefile path\n",
    "fortcollinsrl_path = os.path.join(fortcollinsrl_dir, 'loveland.gpkg')\n",
    "\n",
    "# Only download once\n",
    "if not os.path.exists(fortcollinsrl_path):\n",
    "    # Read the GeoPackage file from the URL\n",
    "    fortcollinsrl_gdf = gpd.read_file(fortcollinsrl_url)\n",
    "    # Save the data as a GeoPackage to the local path\n",
    "    fortcollinsrl_gdf.to_file(fortcollinsrl_path, driver='GPKG')\n",
    "\n",
    "# Load from file\n",
    "fortcollinsrl_gdf = gpd.read_file(fortcollinsrl_path)\n",
    "\n",
    "#Check the data\n",
    "fortcollinsrl_gdf.plot()"
   ]
  },
  {
   "cell_type": "code",
   "execution_count": 23,
   "metadata": {},
   "outputs": [
    {
     "data": {
      "text/html": [
       "<div>\n",
       "<style scoped>\n",
       "    .dataframe tbody tr th:only-of-type {\n",
       "        vertical-align: middle;\n",
       "    }\n",
       "\n",
       "    .dataframe tbody tr th {\n",
       "        vertical-align: top;\n",
       "    }\n",
       "\n",
       "    .dataframe thead th {\n",
       "        text-align: right;\n",
       "    }\n",
       "</style>\n",
       "<table border=\"1\" class=\"dataframe\">\n",
       "  <thead>\n",
       "    <tr style=\"text-align: right;\">\n",
       "      <th></th>\n",
       "      <th>area_id</th>\n",
       "      <th>city</th>\n",
       "      <th>state</th>\n",
       "      <th>city_survey</th>\n",
       "      <th>category</th>\n",
       "      <th>grade</th>\n",
       "      <th>label</th>\n",
       "      <th>residential</th>\n",
       "      <th>commercial</th>\n",
       "      <th>industrial</th>\n",
       "      <th>fill</th>\n",
       "      <th>geometry</th>\n",
       "    </tr>\n",
       "  </thead>\n",
       "  <tbody>\n",
       "    <tr>\n",
       "      <th>0</th>\n",
       "      <td>244</td>\n",
       "      <td>Birmingham</td>\n",
       "      <td>AL</td>\n",
       "      <td>True</td>\n",
       "      <td>Best</td>\n",
       "      <td>A</td>\n",
       "      <td>A1</td>\n",
       "      <td>True</td>\n",
       "      <td>False</td>\n",
       "      <td>False</td>\n",
       "      <td>#76a865</td>\n",
       "      <td>MULTIPOLYGON (((-86.75678 33.49754, -86.75653 ...</td>\n",
       "    </tr>\n",
       "    <tr>\n",
       "      <th>1</th>\n",
       "      <td>193</td>\n",
       "      <td>Birmingham</td>\n",
       "      <td>AL</td>\n",
       "      <td>True</td>\n",
       "      <td>Best</td>\n",
       "      <td>A</td>\n",
       "      <td>A2</td>\n",
       "      <td>True</td>\n",
       "      <td>False</td>\n",
       "      <td>False</td>\n",
       "      <td>#76a865</td>\n",
       "      <td>MULTIPOLYGON (((-86.75867 33.50933, -86.76134 ...</td>\n",
       "    </tr>\n",
       "    <tr>\n",
       "      <th>2</th>\n",
       "      <td>206</td>\n",
       "      <td>Birmingham</td>\n",
       "      <td>AL</td>\n",
       "      <td>True</td>\n",
       "      <td>Best</td>\n",
       "      <td>A</td>\n",
       "      <td>A3</td>\n",
       "      <td>True</td>\n",
       "      <td>False</td>\n",
       "      <td>False</td>\n",
       "      <td>#76a865</td>\n",
       "      <td>MULTIPOLYGON (((-86.75678 33.49754, -86.75692 ...</td>\n",
       "    </tr>\n",
       "    <tr>\n",
       "      <th>3</th>\n",
       "      <td>203</td>\n",
       "      <td>Birmingham</td>\n",
       "      <td>AL</td>\n",
       "      <td>True</td>\n",
       "      <td>Still Desirable</td>\n",
       "      <td>B</td>\n",
       "      <td>B1</td>\n",
       "      <td>True</td>\n",
       "      <td>False</td>\n",
       "      <td>False</td>\n",
       "      <td>#7cb5bd</td>\n",
       "      <td>MULTIPOLYGON (((-86.80111 33.48071, -86.80505 ...</td>\n",
       "    </tr>\n",
       "    <tr>\n",
       "      <th>4</th>\n",
       "      <td>189</td>\n",
       "      <td>Birmingham</td>\n",
       "      <td>AL</td>\n",
       "      <td>True</td>\n",
       "      <td>Still Desirable</td>\n",
       "      <td>B</td>\n",
       "      <td>B10</td>\n",
       "      <td>True</td>\n",
       "      <td>False</td>\n",
       "      <td>False</td>\n",
       "      <td>#7cb5bd</td>\n",
       "      <td>MULTIPOLYGON (((-86.74923 33.53333, -86.74971 ...</td>\n",
       "    </tr>\n",
       "  </tbody>\n",
       "</table>\n",
       "</div>"
      ],
      "text/plain": [
       "   area_id        city state  city_survey         category grade label  \\\n",
       "0      244  Birmingham    AL         True             Best     A    A1   \n",
       "1      193  Birmingham    AL         True             Best     A    A2   \n",
       "2      206  Birmingham    AL         True             Best     A    A3   \n",
       "3      203  Birmingham    AL         True  Still Desirable     B    B1   \n",
       "4      189  Birmingham    AL         True  Still Desirable     B   B10   \n",
       "\n",
       "   residential  commercial  industrial     fill  \\\n",
       "0         True       False       False  #76a865   \n",
       "1         True       False       False  #76a865   \n",
       "2         True       False       False  #76a865   \n",
       "3         True       False       False  #7cb5bd   \n",
       "4         True       False       False  #7cb5bd   \n",
       "\n",
       "                                            geometry  \n",
       "0  MULTIPOLYGON (((-86.75678 33.49754, -86.75653 ...  \n",
       "1  MULTIPOLYGON (((-86.75867 33.50933, -86.76134 ...  \n",
       "2  MULTIPOLYGON (((-86.75678 33.49754, -86.75692 ...  \n",
       "3  MULTIPOLYGON (((-86.80111 33.48071, -86.80505 ...  \n",
       "4  MULTIPOLYGON (((-86.74923 33.53333, -86.74971 ...  "
      ]
     },
     "execution_count": 23,
     "metadata": {},
     "output_type": "execute_result"
    }
   ],
   "source": [
    "fortcollinsrl_gdf.head(5)"
   ]
  },
  {
   "cell_type": "code",
   "execution_count": 24,
   "metadata": {},
   "outputs": [
    {
     "ename": "NameError",
     "evalue": "name 'fortcollinsrl_redlining_gdf' is not defined",
     "output_type": "error",
     "traceback": [
      "\u001b[0;31m---------------------------------------------------------------------------\u001b[0m",
      "\u001b[0;31mNameError\u001b[0m                                 Traceback (most recent call last)",
      "Cell \u001b[0;32mIn[24], line 5\u001b[0m\n\u001b[1;32m      1\u001b[0m \u001b[38;5;66;03m# # Create an interactive site map\u001b[39;00m\n\u001b[1;32m      3\u001b[0m fortcollins_redlining_gdf \u001b[38;5;241m=\u001b[39m fortcollinsrl_gdf[fortcollinsrl_gdf\u001b[38;5;241m.\u001b[39mcity\u001b[38;5;241m==\u001b[39m\u001b[38;5;124m'\u001b[39m\u001b[38;5;124mFort Collins\u001b[39m\u001b[38;5;124m'\u001b[39m] \n\u001b[0;32m----> 5\u001b[0m \u001b[43mfortcollinsrl_redlining_gdf\u001b[49m\u001b[38;5;241m.\u001b[39mdissolve()\u001b[38;5;241m.\u001b[39mhvplot(\n\u001b[1;32m      6\u001b[0m     geo\u001b[38;5;241m=\u001b[39m\u001b[38;5;28;01mTrue\u001b[39;00m, tiles\u001b[38;5;241m=\u001b[39m\u001b[38;5;124m'\u001b[39m\u001b[38;5;124mEsriImagery\u001b[39m\u001b[38;5;124m'\u001b[39m,\n\u001b[1;32m      7\u001b[0m     title\u001b[38;5;241m=\u001b[39m\u001b[38;5;124m'\u001b[39m\u001b[38;5;124mCity of Loveland\u001b[39m\u001b[38;5;124m'\u001b[39m,\n\u001b[1;32m      8\u001b[0m     fill_color\u001b[38;5;241m=\u001b[39m\u001b[38;5;28;01mNone\u001b[39;00m, line_color\u001b[38;5;241m=\u001b[39m\u001b[38;5;124m'\u001b[39m\u001b[38;5;124mred\u001b[39m\u001b[38;5;124m'\u001b[39m, line_width\u001b[38;5;241m=\u001b[39m\u001b[38;5;241m2\u001b[39m,\n\u001b[1;32m      9\u001b[0m     frame_width\u001b[38;5;241m=\u001b[39m\u001b[38;5;241m600\u001b[39m\n\u001b[1;32m     10\u001b[0m )\n",
      "\u001b[0;31mNameError\u001b[0m: name 'fortcollinsrl_redlining_gdf' is not defined"
     ]
    }
   ],
   "source": [
    "# # Create an interactive site map\n",
    "\n",
    "fortcollins_redlining_gdf = fortcollinsrl_gdf[fortcollinsrl_gdf.city=='Fort Collins'] \n",
    "\n",
    "fortcollinsrl_redlining_gdf.dissolve().hvplot(\n",
    "    geo=True, tiles='EsriImagery',\n",
    "    title='City of Loveland',\n",
    "    fill_color=None, line_color='red', line_width=2,\n",
    "    frame_width=600\n",
    ")"
   ]
  },
  {
   "cell_type": "code",
   "execution_count": 19,
   "metadata": {},
   "outputs": [
    {
     "name": "stdout",
     "output_type": "stream",
     "text": [
      "Empty GeoDataFrame\n",
      "Columns: [area_id, city, state, city_survey, category, grade, label, residential, commercial, industrial, fill, geometry]\n",
      "Index: []\n"
     ]
    }
   ],
   "source": [
    "\n",
    "\n",
    "# Print the filtered GeoDataFrame to check if it's empty\n",
    "print(loveland_redlining_gdf)\n"
   ]
  }
 ],
 "metadata": {
  "kernelspec": {
   "display_name": "earth-analytics-python",
   "language": "python",
   "name": "python3"
  },
  "language_info": {
   "codemirror_mode": {
    "name": "ipython",
    "version": 3
   },
   "file_extension": ".py",
   "mimetype": "text/x-python",
   "name": "python",
   "nbconvert_exporter": "python",
   "pygments_lexer": "ipython3",
   "version": "3.11.10"
  }
 },
 "nbformat": 4,
 "nbformat_minor": 2
}
