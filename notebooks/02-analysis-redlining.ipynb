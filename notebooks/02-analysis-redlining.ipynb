{
  "cells": [
    {
      "cell_type": "markdown",
      "id": "6628cc56-ca72-4409-acc0-edd3e082d4a6",
      "metadata": {},
      "source": [
        "# STEP 1: Set up your analysis\n",
        "\n",
        "<link rel=\"stylesheet\" type=\"text/css\" href=\"./assets/styles.css\"><div class=\"callout callout-style-default callout-titled callout-task\"><div class=\"callout-header\"><div class=\"callout-icon-container\"><i class=\"callout-icon\"></i></div><div class=\"callout-title-container flex-fill\">Try It: Import packages</div></div><div class=\"callout-body-container callout-body\"><p>Add imports for packages that help you:</p>\n",
        "<ol type=\"1\">\n",
        "<li>Work with the file system interoperably</li>\n",
        "<li>Work with vector data</li>\n",
        "<li>Create interactive plots of vector data</li>\n",
        "</ol></div></div>"
      ]
    },
    {
      "cell_type": "code",
      "execution_count": 5,
      "id": "36373378",
      "metadata": {
        "highlight": true
      },
      "outputs": [
        {
          "ename": "ModuleNotFoundError",
          "evalue": "No module named 'pandas'",
          "output_type": "error",
          "traceback": [
            "\u001b[0;31m---------------------------------------------------------------------------\u001b[0m",
            "\u001b[0;31mModuleNotFoundError\u001b[0m                       Traceback (most recent call last)",
            "Cell \u001b[0;32mIn[5], line 5\u001b[0m\n\u001b[1;32m      3\u001b[0m \u001b[38;5;28;01mimport\u001b[39;00m \u001b[38;5;21;01mos\u001b[39;00m \u001b[38;5;66;03m# for file system paths, directory creation, and environment variable access.\u001b[39;00m\n\u001b[1;32m      4\u001b[0m \u001b[38;5;28;01mimport\u001b[39;00m \u001b[38;5;21;01mshutil\u001b[39;00m \u001b[38;5;66;03m# used for high-level file operations like copying and moving files. \u001b[39;00m\n\u001b[0;32m----> 5\u001b[0m \u001b[38;5;28;01mimport\u001b[39;00m \u001b[38;5;21;01mpandas\u001b[39;00m\n\u001b[1;32m      6\u001b[0m \u001b[38;5;28;01mimport\u001b[39;00m \u001b[38;5;21;01mgeopanda\u001b[39;00m\n\u001b[1;32m      8\u001b[0m \u001b[38;5;66;03m# Work with vector data\u001b[39;00m\n\u001b[1;32m      9\u001b[0m \n\u001b[1;32m     10\u001b[0m \n\u001b[1;32m     11\u001b[0m \u001b[38;5;66;03m# Interactive plots of vector data\u001b[39;00m\n",
            "\u001b[0;31mModuleNotFoundError\u001b[0m: No module named 'pandas'"
          ]
        }
      ],
      "source": [
        "# Interoperable file paths\n",
        "# Find the home folder\n",
        "import os # for file system paths, directory creation, and environment variable access.\n",
        "import shutil # used for high-level file operations like copying and moving files. \n",
        "import pandas\n",
        "import geopanda\n",
        "\n",
        "# Work with vector data\n",
        "\n",
        "\n",
        "# Interactive plots of vector data\n",
        "\n",
        "\n"
      ]
    },
    {
      "cell_type": "markdown",
      "id": "e51bccae-e240-4961-a8de-04d996468c61",
      "metadata": {},
      "source": [
        "<link rel=\"stylesheet\" type=\"text/css\" href=\"./assets/styles.css\"><div class=\"callout callout-style-default callout-titled callout-task\"><div class=\"callout-header\"><div class=\"callout-icon-container\"><i class=\"callout-icon\"></i></div><div class=\"callout-title-container flex-fill\">Try It: Prepare data directory</div></div><div class=\"callout-body-container callout-body\"><p>In the cell below, <strong>reproducibly and interoperably</strong>\n",
        "define and create a project data directory somewhere in your home\n",
        "folder. Be careful not to save data files to your <code>git</code>\n",
        "repository!</p></div></div>"
      ]
    },
    {
      "cell_type": "code",
      "execution_count": 13,
      "id": "0a04b348",
      "metadata": {
        "highlight": true
      },
      "outputs": [
        {
          "name": "stdout",
          "output_type": "stream",
          "text": [
            "Project directory created at: /Users/erinzimmerman/redlining\n"
          ]
        }
      ],
      "source": [
        "# Define and create the project data directory\n",
        "import os\n",
        "\n",
        "# Step 1: Get the home folder path\n",
        "home_folder = os.path.expanduser(\"~\")\n",
        "\n",
        "# Step 2: Define the project directory within the home folder\n",
        "project_dir = os.path.join(home_folder, 'redlining' )\n",
        "\n",
        "# Step 3: Create the project directory if it doesn't already exist\n",
        "os.makedirs(project_dir, exist_ok=True)\n",
        "\n",
        "# Step 4: Confirm creation\n",
        "print(f\"Project directory created at: {project_dir}\")\n",
        "\n",
        "os.makedirs(data_dir, exist_ok=True)\n"
      ]
    },
    {
      "cell_type": "markdown",
      "id": "57c696b2-c65d-4c09-b82e-f5c068a23011",
      "metadata": {},
      "source": [
        "## STEP 2: Site map\n",
        "\n",
        "<link rel=\"stylesheet\" type=\"text/css\" href=\"./assets/styles.css\"><div class=\"callout callout-style-default callout-titled callout-task\"><div class=\"callout-header\"><div class=\"callout-icon-container\"><i class=\"callout-icon\"></i></div><div class=\"callout-title-container flex-fill\">Try It: Define your study area</div></div><div class=\"callout-body-container callout-body\"><ol type=\"1\">\n",
        "<li>Copy the <strong>geopackage</strong> URL for the <a\n",
        "href=\"https://dsl.richmond.edu/panorama/redlining/data\">University of\n",
        "Richmond</a></li>\n",
        "<li>Load the <em>vector</em> data into Python, making sure to cache the\n",
        "download so you don’t have to run it multiple times.</li>\n",
        "<li>Create a quick plot to check the data</li>\n",
        "</ol></div></div>"
      ]
    },
    {
      "cell_type": "code",
      "execution_count": 14,
      "id": "28b6fbef",
      "metadata": {},
      "outputs": [
        {
          "ename": "NameError",
          "evalue": "name 'gpd' is not defined",
          "output_type": "error",
          "traceback": [
            "\u001b[0;31m---------------------------------------------------------------------------\u001b[0m",
            "\u001b[0;31mNameError\u001b[0m                                 Traceback (most recent call last)",
            "Cell \u001b[0;32mIn[14], line 19\u001b[0m\n\u001b[1;32m     17\u001b[0m \u001b[38;5;66;03m# Only download once\u001b[39;00m\n\u001b[1;32m     18\u001b[0m \u001b[38;5;28;01mif\u001b[39;00m \u001b[38;5;129;01mnot\u001b[39;00m os\u001b[38;5;241m.\u001b[39mpath\u001b[38;5;241m.\u001b[39mexists(redlining_path):\n\u001b[0;32m---> 19\u001b[0m     redlining_gdf \u001b[38;5;241m=\u001b[39m \u001b[43mgpd\u001b[49m\u001b[38;5;241m.\u001b[39mread_file(redlining_url)\n\u001b[1;32m     20\u001b[0m     redlining_gdf\u001b[38;5;241m.\u001b[39mto_file(redlining_path)\n",
            "\u001b[0;31mNameError\u001b[0m: name 'gpd' is not defined"
          ]
        }
      ],
      "source": [
        "# Set up the ecoregion boundary URL\n",
        "redlining_url = (\n",
        "    \"https://dsl.richmond.edu\"\n",
        "    \"/panorama/redlining/static/\"\n",
        "    \"mappinginequality.gpkg\"\n",
        "\n",
        ")\n",
        "# Set up a path to save the data on your machine\n",
        "redlining_dir = os.path.join(data_dir, 'Uni Richmond Redlining')\n",
        "\n",
        "# Make the redlining directory\n",
        "os.makedirs(redlining_dir, exist_ok=True)\n",
        "\n",
        "# Join ecoregions shapefile path\n",
        "redlining_path = os.path.join(redlining_dir, 'Uni Richmond Redlining.shp')\n",
        "\n",
        "# Only download once\n",
        "if not os.path.exists(redlining_path):\n",
        "    redlining_gdf = gpd.read_file(redlining_url)\n",
        "    redlining_gdf.to_file(redlining_path)\n"
      ]
    },
    {
      "cell_type": "code",
      "execution_count": 6,
      "id": "b36db150",
      "metadata": {
        "highlight": true
      },
      "outputs": [],
      "source": [
        "# Define info for redlining download\n",
        "\n",
        "# Only download once\n",
        "\n",
        "# Load from file\n",
        "\n",
        "# Check the data"
      ]
    },
    {
      "cell_type": "markdown",
      "id": "491f26db-1f5c-4cc6-8804-40b2fc2f7b2e",
      "metadata": {},
      "source": [
        "<link rel=\"stylesheet\" type=\"text/css\" href=\"./assets/styles.css\"><div class=\"callout callout-style-default callout-titled callout-task\"><div class=\"callout-header\"><div class=\"callout-icon-container\"><i class=\"callout-icon\"></i></div><div class=\"callout-title-container flex-fill\">Try It: Create an interactive site map</div></div><div class=\"callout-body-container callout-body\"><p>In the cell below:</p>\n",
        "<ol type=\"1\">\n",
        "<li>Select only the data where the <code>city</code> column is equal to\n",
        "<code>\"Denver\"</code>.</li>\n",
        "<li>For now, dissolve the regions with the <code>.dissolve()</code>\n",
        "method so we see only a map of Denver.</li>\n",
        "<li>Plot the data with the <code>EsriImagery</code> tile source basemap.\n",
        "Make sure we can see your basemap underneath!</li>\n",
        "</ol></div></div>\n",
        "\n",
        "<link rel=\"stylesheet\" type=\"text/css\" href=\"./assets/styles.css\"><div class=\"callout callout-style-default callout-titled callout-respond\"><div class=\"callout-header\"><div class=\"callout-icon-container\"><i class=\"callout-icon\"></i></div><div class=\"callout-title-container flex-fill\">Reflect and Respond: Write a site description</div></div><div class=\"callout-body-container callout-body\"><p>Your site description should address:</p>\n",
        "<ol type=\"1\">\n",
        "<li>Is there anything relevant to this analysis that you notice in your\n",
        "site map?</li>\n",
        "<li>Research about the <strong>context</strong> of this analysis. You\n",
        "could include information about the climate and history of the Denver\n",
        "area. How might racism, water rights, or other societal forces have\n",
        "influenced the distribution of urban green space in Denver? Aim for a\n",
        "paragraph of text.</li>\n",
        "<li>Citations for the site data and your context sources.</li>\n",
        "</ol></div></div>"
      ]
    },
    {
      "cell_type": "markdown",
      "id": "56a5301f-3e6e-4268-8ccd-f56977d2280f",
      "metadata": {},
      "source": [
        "YOUR SITE DESCRIPTION HERE"
      ]
    },
    {
      "cell_type": "markdown",
      "id": "cae045ce-e01f-447b-aab8-defbed89a9c9",
      "metadata": {},
      "source": [
        "<link rel=\"stylesheet\" type=\"text/css\" href=\"./assets/styles.css\"><div class=\"callout callout-style-default callout-titled callout-task\"><div class=\"callout-header\"><div class=\"callout-icon-container\"><i class=\"callout-icon\"></i></div><div class=\"callout-title-container flex-fill\">Try It: Store variables</div></div><div class=\"callout-body-container callout-body\"><p>Store any variables you want for later. This should definitely\n",
        "include your un-dissolved denver redlining <code>GeoDataFrame</code> and\n",
        "your data directory path.</p></div></div>"
      ]
    },
    {
      "cell_type": "code",
      "execution_count": 10,
      "id": "496519d0",
      "metadata": {},
      "outputs": [],
      "source": [
        "%store denver_redlining_gdf data_dir"
      ]
    }
  ],
  "metadata": {
    "kernelspec": {
      "display_name": "Python 3",
      "language": "python",
      "name": "python3"
    },
    "language_info": {
      "codemirror_mode": {
        "name": "ipython",
        "version": 3
      },
      "file_extension": ".py",
      "mimetype": "text/x-python",
      "name": "python",
      "nbconvert_exporter": "python",
      "pygments_lexer": "ipython3",
      "version": "3.9.6"
    }
  },
  "nbformat": 4,
  "nbformat_minor": 5
}
